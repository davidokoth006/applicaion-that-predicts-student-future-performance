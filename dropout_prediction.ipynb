{
 "cells": [
  {
   "cell_type": "code",
   "execution_count": 9,
   "id": "84cca007",
   "metadata": {},
   "outputs": [],
   "source": [
    "import pandas as pd\n",
    "from sklearn.model_selection import train_test_split\n",
    "from sklearn.preprocessing import LabelEncoder\n",
    "from sklearn.ensemble import RandomForestClassifier\n",
    "from sklearn.metrics import accuracy_score\n",
    "import joblib\n"
   ]
  },
  {
   "cell_type": "code",
   "execution_count": 10,
   "id": "bad85e9e",
   "metadata": {},
   "outputs": [
    {
     "name": "stdout",
     "output_type": "stream",
     "text": [
      "   Hours_Studied  Previous_Scores Extracurricular_Activities  Sleep_Hours  \\\n",
      "0              7               99                        Yes            9   \n",
      "1              4               82                         No            4   \n",
      "2              8               51                        Yes            7   \n",
      "3              5               52                        Yes            5   \n",
      "4              7               75                         No            8   \n",
      "\n",
      "   Sample_Question_Papers_Practiced  Performance_Index  Students_Attendance  \\\n",
      "0                                 1                 91                   70   \n",
      "1                                 2                 65                   92   \n",
      "2                                 2                 45                   67   \n",
      "3                                 2                 36                   82   \n",
      "4                                 5                 66                   80   \n",
      "\n",
      "     Target  \n",
      "0   Dropout  \n",
      "1  Graduate  \n",
      "2   Dropout  \n",
      "3  Graduate  \n",
      "4  Graduate  \n"
     ]
    }
   ],
   "source": [
    "# Replace 'dataset.csv' with the path to your dataset file\n",
    "data = pd.read_csv('Student_Performance.csv')\n",
    "\n",
    "# Explore the dataset (optional)\n",
    "print(data.head())"
   ]
  },
  {
   "cell_type": "code",
   "execution_count": 11,
   "id": "bda00fff",
   "metadata": {},
   "outputs": [
    {
     "name": "stdout",
     "output_type": "stream",
     "text": [
      "<class 'pandas.core.frame.DataFrame'>\n",
      "RangeIndex: 10000 entries, 0 to 9999\n",
      "Data columns (total 7 columns):\n",
      " #   Column                      Non-Null Count  Dtype \n",
      "---  ------                      --------------  ----- \n",
      " 0   Hours_Studied               10000 non-null  int64 \n",
      " 1   Previous_Scores             10000 non-null  int64 \n",
      " 2   Extracurricular_Activities  10000 non-null  object\n",
      " 3   Sleep_Hours                 10000 non-null  int64 \n",
      " 4   Performance_Index           10000 non-null  int64 \n",
      " 5   Students_Attendance         10000 non-null  int64 \n",
      " 6   Target                      10000 non-null  object\n",
      "dtypes: int64(5), object(2)\n",
      "memory usage: 547.0+ KB\n"
     ]
    }
   ],
   "source": [
    "data = data.drop(\"Sample_Question_Papers_Practiced\", axis = 1)\n",
    "data.info()"
   ]
  },
  {
   "cell_type": "code",
   "execution_count": 12,
   "id": "77c44c45",
   "metadata": {},
   "outputs": [],
   "source": [
    "# Split the data into features (X) and target (y)\n",
    "X = data.drop('Target', axis=1)\n",
    "y = data['Target']\n",
    "\n",
    "# Use label encoding for categorical variables\n",
    "le = LabelEncoder()\n",
    "X['Extracurricular_Activities'] = le.fit_transform(X['Extracurricular_Activities'])\n",
    "\n",
    "# Split the data into training and testing sets\n",
    "X_train, X_test, y_train, y_test = train_test_split(X, y, test_size=0.2, random_state=42)\n"
   ]
  },
  {
   "cell_type": "code",
   "execution_count": 13,
   "id": "64a1cce0",
   "metadata": {},
   "outputs": [
    {
     "name": "stdout",
     "output_type": "stream",
     "text": [
      "Model Accuracy: 0.64\n"
     ]
    }
   ],
   "source": [
    "# Create and train the Random Forest classifier\n",
    "rf_classifier = RandomForestClassifier(random_state=42)\n",
    "rf_classifier.fit(X_train, y_train)\n",
    "\n",
    "# Make predictions on the test set\n",
    "y_pred = rf_classifier.predict(X_test)\n",
    "\n",
    "# Evaluate the model (optional)\n",
    "accuracy = accuracy_score(y_test, y_pred)\n",
    "print(f\"Model Accuracy: {accuracy:.2f}\")\n"
   ]
  },
  {
   "cell_type": "code",
   "execution_count": 14,
   "id": "952e41c0",
   "metadata": {},
   "outputs": [
    {
     "data": {
      "text/plain": [
       "['dropout_prediction_model_label_encoder.pkl']"
      ]
     },
     "execution_count": 14,
     "metadata": {},
     "output_type": "execute_result"
    }
   ],
   "source": [
    "# Save the model using joblib\n",
    "# Replace 'model.pkl' with the desired path and filename for your model\n",
    "joblib.dump(rf_classifier, 'dropout_prediction_model.pkl')\n",
    "\n",
    "# Save the label encoder for later use in prediction\n",
    "label_encoder_path = 'dropout_prediction_model_label_encoder.pkl'\n",
    "joblib.dump(le, label_encoder_path)\n"
   ]
  },
  {
   "cell_type": "code",
   "execution_count": null,
   "id": "21c0da22",
   "metadata": {},
   "outputs": [],
   "source": []
  }
 ],
 "metadata": {
  "kernelspec": {
   "display_name": "env",
   "language": "python",
   "name": "env"
  },
  "language_info": {
   "codemirror_mode": {
    "name": "ipython",
    "version": 3
   },
   "file_extension": ".py",
   "mimetype": "text/x-python",
   "name": "python",
   "nbconvert_exporter": "python",
   "pygments_lexer": "ipython3",
   "version": "3.11.4"
  }
 },
 "nbformat": 4,
 "nbformat_minor": 5
}
