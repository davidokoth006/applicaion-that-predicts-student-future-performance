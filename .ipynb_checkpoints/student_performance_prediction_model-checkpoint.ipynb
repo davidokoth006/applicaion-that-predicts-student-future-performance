{
 "cells": [
  {
   "cell_type": "code",
   "execution_count": 49,
   "id": "22bded8c",
   "metadata": {},
   "outputs": [
    {
     "data": {
      "text/html": [
       "<div>\n",
       "<style scoped>\n",
       "    .dataframe tbody tr th:only-of-type {\n",
       "        vertical-align: middle;\n",
       "    }\n",
       "\n",
       "    .dataframe tbody tr th {\n",
       "        vertical-align: top;\n",
       "    }\n",
       "\n",
       "    .dataframe thead th {\n",
       "        text-align: right;\n",
       "    }\n",
       "</style>\n",
       "<table border=\"1\" class=\"dataframe\">\n",
       "  <thead>\n",
       "    <tr style=\"text-align: right;\">\n",
       "      <th></th>\n",
       "      <th>gender</th>\n",
       "      <th>Nationality</th>\n",
       "      <th>PlaceofBirth</th>\n",
       "      <th>StageID</th>\n",
       "      <th>GradeID</th>\n",
       "      <th>SectionID</th>\n",
       "      <th>Topic</th>\n",
       "      <th>Semester</th>\n",
       "      <th>Relation</th>\n",
       "      <th>raisedhands</th>\n",
       "      <th>Performance_Index</th>\n",
       "      <th>Previous_Performance_Scores</th>\n",
       "      <th>Discussion</th>\n",
       "      <th>ParentAnsweringSurvey</th>\n",
       "      <th>ParentschoolSatisfaction</th>\n",
       "      <th>StudentAbsenceDays</th>\n",
       "      <th>Class</th>\n",
       "    </tr>\n",
       "  </thead>\n",
       "  <tbody>\n",
       "    <tr>\n",
       "      <th>0</th>\n",
       "      <td>M</td>\n",
       "      <td>KW</td>\n",
       "      <td>KuwaIT</td>\n",
       "      <td>lowerlevel</td>\n",
       "      <td>G-04</td>\n",
       "      <td>A</td>\n",
       "      <td>IT</td>\n",
       "      <td>F</td>\n",
       "      <td>Father</td>\n",
       "      <td>15</td>\n",
       "      <td>16</td>\n",
       "      <td>69</td>\n",
       "      <td>20</td>\n",
       "      <td>Yes</td>\n",
       "      <td>Good</td>\n",
       "      <td>Under-7</td>\n",
       "      <td>M</td>\n",
       "    </tr>\n",
       "    <tr>\n",
       "      <th>1</th>\n",
       "      <td>M</td>\n",
       "      <td>KW</td>\n",
       "      <td>KuwaIT</td>\n",
       "      <td>lowerlevel</td>\n",
       "      <td>G-04</td>\n",
       "      <td>A</td>\n",
       "      <td>IT</td>\n",
       "      <td>F</td>\n",
       "      <td>Father</td>\n",
       "      <td>20</td>\n",
       "      <td>20</td>\n",
       "      <td>91</td>\n",
       "      <td>25</td>\n",
       "      <td>Yes</td>\n",
       "      <td>Good</td>\n",
       "      <td>Under-7</td>\n",
       "      <td>M</td>\n",
       "    </tr>\n",
       "    <tr>\n",
       "      <th>2</th>\n",
       "      <td>M</td>\n",
       "      <td>KW</td>\n",
       "      <td>KuwaIT</td>\n",
       "      <td>lowerlevel</td>\n",
       "      <td>G-04</td>\n",
       "      <td>A</td>\n",
       "      <td>IT</td>\n",
       "      <td>F</td>\n",
       "      <td>Father</td>\n",
       "      <td>10</td>\n",
       "      <td>79</td>\n",
       "      <td>0</td>\n",
       "      <td>30</td>\n",
       "      <td>No</td>\n",
       "      <td>Bad</td>\n",
       "      <td>Above-7</td>\n",
       "      <td>L</td>\n",
       "    </tr>\n",
       "    <tr>\n",
       "      <th>3</th>\n",
       "      <td>M</td>\n",
       "      <td>KW</td>\n",
       "      <td>KuwaIT</td>\n",
       "      <td>lowerlevel</td>\n",
       "      <td>G-04</td>\n",
       "      <td>A</td>\n",
       "      <td>IT</td>\n",
       "      <td>F</td>\n",
       "      <td>Father</td>\n",
       "      <td>30</td>\n",
       "      <td>25</td>\n",
       "      <td>58</td>\n",
       "      <td>35</td>\n",
       "      <td>No</td>\n",
       "      <td>Bad</td>\n",
       "      <td>Above-7</td>\n",
       "      <td>L</td>\n",
       "    </tr>\n",
       "    <tr>\n",
       "      <th>4</th>\n",
       "      <td>M</td>\n",
       "      <td>KW</td>\n",
       "      <td>KuwaIT</td>\n",
       "      <td>lowerlevel</td>\n",
       "      <td>G-04</td>\n",
       "      <td>A</td>\n",
       "      <td>IT</td>\n",
       "      <td>F</td>\n",
       "      <td>Father</td>\n",
       "      <td>40</td>\n",
       "      <td>50</td>\n",
       "      <td>12</td>\n",
       "      <td>50</td>\n",
       "      <td>No</td>\n",
       "      <td>Bad</td>\n",
       "      <td>Above-7</td>\n",
       "      <td>M</td>\n",
       "    </tr>\n",
       "  </tbody>\n",
       "</table>\n",
       "</div>"
      ],
      "text/plain": [
       "  gender Nationality PlaceofBirth     StageID GradeID SectionID Topic  \\\n",
       "0      M          KW       KuwaIT  lowerlevel    G-04         A    IT   \n",
       "1      M          KW       KuwaIT  lowerlevel    G-04         A    IT   \n",
       "2      M          KW       KuwaIT  lowerlevel    G-04         A    IT   \n",
       "3      M          KW       KuwaIT  lowerlevel    G-04         A    IT   \n",
       "4      M          KW       KuwaIT  lowerlevel    G-04         A    IT   \n",
       "\n",
       "  Semester Relation  raisedhands  Performance_Index  \\\n",
       "0        F   Father           15                 16   \n",
       "1        F   Father           20                 20   \n",
       "2        F   Father           10                 79   \n",
       "3        F   Father           30                 25   \n",
       "4        F   Father           40                 50   \n",
       "\n",
       "   Previous_Performance_Scores  Discussion ParentAnsweringSurvey  \\\n",
       "0                           69          20                   Yes   \n",
       "1                           91          25                   Yes   \n",
       "2                            0          30                    No   \n",
       "3                           58          35                    No   \n",
       "4                           12          50                    No   \n",
       "\n",
       "  ParentschoolSatisfaction StudentAbsenceDays Class  \n",
       "0                     Good            Under-7     M  \n",
       "1                     Good            Under-7     M  \n",
       "2                      Bad            Above-7     L  \n",
       "3                      Bad            Above-7     L  \n",
       "4                      Bad            Above-7     M  "
      ]
     },
     "execution_count": 49,
     "metadata": {},
     "output_type": "execute_result"
    }
   ],
   "source": [
    "import pandas as pd\n",
    "import matplotlib.pyplot as plt\n",
    "\n",
    "df = pd.read_csv(\"performance.csv\")\n",
    "df.head()"
   ]
  },
  {
   "cell_type": "code",
   "execution_count": 50,
   "id": "3417a1c8",
   "metadata": {},
   "outputs": [
    {
     "name": "stdout",
     "output_type": "stream",
     "text": [
      "  gender Nationality PlaceofBirth     StageID GradeID SectionID Topic  \\\n",
      "0      M          KW       KuwaIT  lowerlevel    G-04         A    IT   \n",
      "1      M          KW       KuwaIT  lowerlevel    G-04         A    IT   \n",
      "2      M          KW       KuwaIT  lowerlevel    G-04         A    IT   \n",
      "3      M          KW       KuwaIT  lowerlevel    G-04         A    IT   \n",
      "4      M          KW       KuwaIT  lowerlevel    G-04         A    IT   \n",
      "\n",
      "  Semester Relation  raisedhands  Performance_Index  \\\n",
      "0        F   Father           15                 16   \n",
      "1        F   Father           20                 20   \n",
      "2        F   Father           10                 79   \n",
      "3        F   Father           30                 25   \n",
      "4        F   Father           40                 50   \n",
      "\n",
      "   Previous_Performance_Scores  Discussion ParentAnsweringSurvey  \\\n",
      "0                           69          20                   Yes   \n",
      "1                           91          25                   Yes   \n",
      "2                            0          30                    No   \n",
      "3                           58          35                    No   \n",
      "4                           12          50                    No   \n",
      "\n",
      "  ParentschoolSatisfaction StudentAbsenceDays Class  Nationality_Encoded  \n",
      "0                     Good            Under-7     M                    4  \n",
      "1                     Good            Under-7     M                    4  \n",
      "2                      Bad            Above-7     L                    4  \n",
      "3                      Bad            Above-7     L                    4  \n",
      "4                      Bad            Above-7     M                    4  \n"
     ]
    }
   ],
   "source": [
    "from sklearn.preprocessing import LabelEncoder\n",
    "\n",
    "# Perform label encoding on 'Nationality'\n",
    "label_encoder = LabelEncoder()\n",
    "df['Nationality_Encoded'] = label_encoder.fit_transform(df['Nationality'])\n",
    "\n",
    "# Display the updated DataFrame with 'Nationality_Encoded'\n",
    "print(df.head())\n"
   ]
  },
  {
   "cell_type": "code",
   "execution_count": 51,
   "id": "7ed82b02",
   "metadata": {},
   "outputs": [
    {
     "data": {
      "text/html": [
       "<div>\n",
       "<style scoped>\n",
       "    .dataframe tbody tr th:only-of-type {\n",
       "        vertical-align: middle;\n",
       "    }\n",
       "\n",
       "    .dataframe tbody tr th {\n",
       "        vertical-align: top;\n",
       "    }\n",
       "\n",
       "    .dataframe thead th {\n",
       "        text-align: right;\n",
       "    }\n",
       "</style>\n",
       "<table border=\"1\" class=\"dataframe\">\n",
       "  <thead>\n",
       "    <tr style=\"text-align: right;\">\n",
       "      <th></th>\n",
       "      <th>gender</th>\n",
       "      <th>Nationality</th>\n",
       "      <th>Performance_Index</th>\n",
       "      <th>Previous_Performance_Scores</th>\n",
       "      <th>StudentAbsenceDays</th>\n",
       "    </tr>\n",
       "  </thead>\n",
       "  <tbody>\n",
       "    <tr>\n",
       "      <th>0</th>\n",
       "      <td>M</td>\n",
       "      <td>KW</td>\n",
       "      <td>16</td>\n",
       "      <td>69</td>\n",
       "      <td>Under-7</td>\n",
       "    </tr>\n",
       "    <tr>\n",
       "      <th>1</th>\n",
       "      <td>M</td>\n",
       "      <td>KW</td>\n",
       "      <td>20</td>\n",
       "      <td>91</td>\n",
       "      <td>Under-7</td>\n",
       "    </tr>\n",
       "    <tr>\n",
       "      <th>2</th>\n",
       "      <td>M</td>\n",
       "      <td>KW</td>\n",
       "      <td>79</td>\n",
       "      <td>0</td>\n",
       "      <td>Above-7</td>\n",
       "    </tr>\n",
       "    <tr>\n",
       "      <th>3</th>\n",
       "      <td>M</td>\n",
       "      <td>KW</td>\n",
       "      <td>25</td>\n",
       "      <td>58</td>\n",
       "      <td>Above-7</td>\n",
       "    </tr>\n",
       "    <tr>\n",
       "      <th>4</th>\n",
       "      <td>M</td>\n",
       "      <td>KW</td>\n",
       "      <td>50</td>\n",
       "      <td>12</td>\n",
       "      <td>Above-7</td>\n",
       "    </tr>\n",
       "  </tbody>\n",
       "</table>\n",
       "</div>"
      ],
      "text/plain": [
       "  gender Nationality  Performance_Index  Previous_Performance_Scores  \\\n",
       "0      M          KW                 16                           69   \n",
       "1      M          KW                 20                           91   \n",
       "2      M          KW                 79                            0   \n",
       "3      M          KW                 25                           58   \n",
       "4      M          KW                 50                           12   \n",
       "\n",
       "  StudentAbsenceDays  \n",
       "0            Under-7  \n",
       "1            Under-7  \n",
       "2            Above-7  \n",
       "3            Above-7  \n",
       "4            Above-7  "
      ]
     },
     "execution_count": 51,
     "metadata": {},
     "output_type": "execute_result"
    }
   ],
   "source": [
    "#selecting only the data frames we will use\n",
    "df = df[[\"gender\", \"Nationality\",\"Performance_Index\",\"Previous_Performance_Scores\",\"StudentAbsenceDays\", ]]\n",
    "df.head()"
   ]
  },
  {
   "cell_type": "code",
   "execution_count": 52,
   "id": "41866055",
   "metadata": {},
   "outputs": [
    {
     "name": "stdout",
     "output_type": "stream",
     "text": [
      "<class 'pandas.core.frame.DataFrame'>\n",
      "RangeIndex: 480 entries, 0 to 479\n",
      "Data columns (total 5 columns):\n",
      " #   Column                       Non-Null Count  Dtype \n",
      "---  ------                       --------------  ----- \n",
      " 0   gender                       480 non-null    object\n",
      " 1   Nationality                  480 non-null    object\n",
      " 2   Performance_Index            480 non-null    int64 \n",
      " 3   Previous_Performance_Scores  480 non-null    int64 \n",
      " 4   StudentAbsenceDays           480 non-null    object\n",
      "dtypes: int64(2), object(3)\n",
      "memory usage: 18.9+ KB\n"
     ]
    }
   ],
   "source": [
    "df.info()"
   ]
  },
  {
   "cell_type": "code",
   "execution_count": 53,
   "id": "a329b649",
   "metadata": {},
   "outputs": [
    {
     "data": {
      "text/plain": [
       "array(['KW', 'lebanon', 'Egypt', 'SaudiArabia', 'USA', 'Jordan',\n",
       "       'venzuela', 'Iran', 'Tunis', 'Morocco', 'Syria', 'Palestine',\n",
       "       'Iraq', 'Lybia'], dtype=object)"
      ]
     },
     "execution_count": 53,
     "metadata": {},
     "output_type": "execute_result"
    }
   ],
   "source": [
    "df['Nationality'].unique()"
   ]
  },
  {
   "cell_type": "code",
   "execution_count": null,
   "id": "b8e8da18",
   "metadata": {},
   "outputs": [],
   "source": []
  },
  {
   "cell_type": "code",
   "execution_count": 54,
   "id": "0c58a50d",
   "metadata": {},
   "outputs": [
    {
     "data": {
      "image/png": "[encoded data removed]",
      "text/plain": [
       "<Figure size 1200x700 with 1 Axes>"
      ]
     },
     "metadata": {},
     "output_type": "display_data"
    }
   ],
   "source": [
    "# ploting performance_index against gender\n",
    "\n",
    "fig, ax = plt.subplots(1,1, figsize=(12, 7))\n",
    "df.boxplot('Performance_Index', 'gender', ax=ax)\n",
    "plt.suptitle('Ploting Perfromance_Index against the Target')\n",
    "plt.title('')\n",
    "plt.ylabel('Performance_Index')\n",
    "plt.xticks(rotation=90)\n",
    "plt.show()"
   ]
  },
  {
   "cell_type": "code",
   "execution_count": 55,
   "id": "5d624f5f",
   "metadata": {},
   "outputs": [],
   "source": [
    "df = df[df[\"Performance_Index\"]<= 90]\n",
    "df = df[df[\"Performance_Index\"]>= 70]\n",
    "df = df[df[\"gender\"] != 'other']"
   ]
  },
  {
   "cell_type": "code",
   "execution_count": 56,
   "id": "4d9413a7",
   "metadata": {},
   "outputs": [
    {
     "data": {
      "image/png": "[encoded data removed]",
      "text/plain": [
       "<Figure size 1200x700 with 1 Axes>"
      ]
     },
     "metadata": {},
     "output_type": "display_data"
    }
   ],
   "source": [
    "# ploting performance_index against gender\n",
    "\n",
    "fig, ax = plt.subplots(1,1, figsize=(12, 7))\n",
    "df.boxplot('Performance_Index', 'gender', ax=ax)\n",
    "plt.suptitle('Ploting Perfromance_Index against the Target')\n",
    "plt.title('')\n",
    "plt.ylabel('Performance_Index')\n",
    "plt.xticks(rotation=90)\n",
    "plt.show()"
   ]
  },
  {
   "cell_type": "code",
   "execution_count": null,
   "id": "a1091904",
   "metadata": {},
   "outputs": [],
   "source": []
  },
  {
   "cell_type": "code",
   "execution_count": 57,
   "id": "3af75ce3",
   "metadata": {},
   "outputs": [
    {
     "name": "stdout",
     "output_type": "stream",
     "text": [
      "gender                         0\n",
      "Nationality                    0\n",
      "Performance_Index              0\n",
      "Previous_Performance_Scores    0\n",
      "StudentAbsenceDays             0\n",
      "dtype: int64\n"
     ]
    }
   ],
   "source": [
    "# Check for missing values\n",
    "print(df.isnull().sum())\n",
    "\n",
    "# Handle missing values (if any) - you can choose different strategies based on the context\n",
    "# For example, you can fill missing values with the mean, median, or most frequent value of the respective column.\n",
    "\n",
    "# Encoding categorical features (if any) using one-hot encoding or label encoding\n",
    "# For example, convert \"gender\" and \"StudentAbsenceDays\" to numerical values using label encoding.\n",
    "from sklearn.preprocessing import LabelEncoder\n",
    "\n",
    "label_encoder = LabelEncoder()\n",
    "df[\"gender\"] = label_encoder.fit_transform(df[\"gender\"])\n",
    "df[\"StudentAbsenceDays\"] = label_encoder.fit_transform(df[\"StudentAbsenceDays\"])\n",
    "df[\"Nationality\"] = label_encoder.fit_transform(df[\"Nationality\"])\n",
    "\n",
    "# Split the data into features (X) and target (y)\n",
    "X = df.drop(\"Performance_Index\", axis=1)  # Features\n",
    "y = df[\"Performance_Index\"]  # Target\n",
    "\n",
    "# Split the data into training and testing sets\n",
    "from sklearn.model_selection import train_test_split\n",
    "\n",
    "X_train, X_test, y_train, y_test = train_test_split(X, y, test_size=0.2, random_state=42)\n"
   ]
  },
  {
   "cell_type": "code",
   "execution_count": null,
   "id": "92f6862c",
   "metadata": {},
   "outputs": [],
   "source": []
  },
  {
   "cell_type": "code",
   "execution_count": 58,
   "id": "298a125d",
   "metadata": {},
   "outputs": [
    {
     "data": {
      "text/html": [
       "<style>#sk-container-id-4 {color: black;}#sk-container-id-4 pre{padding: 0;}#sk-container-id-4 div.sk-toggleable {background-color: white;}#sk-container-id-4 label.sk-toggleable__label {cursor: pointer;display: block;width: 100%;margin-bottom: 0;padding: 0.3em;box-sizing: border-box;text-align: center;}#sk-container-id-4 label.sk-toggleable__label-arrow:before {content: \"▸\";float: left;margin-right: 0.25em;color: #696969;}#sk-container-id-4 label.sk-toggleable__label-arrow:hover:before {color: black;}#sk-container-id-4 div.sk-estimator:hover label.sk-toggleable__label-arrow:before {color: black;}#sk-container-id-4 div.sk-toggleable__content {max-height: 0;max-width: 0;overflow: hidden;text-align: left;background-color: #f0f8ff;}#sk-container-id-4 div.sk-toggleable__content pre {margin: 0.2em;color: black;border-radius: 0.25em;background-color: #f0f8ff;}#sk-container-id-4 input.sk-toggleable__control:checked~div.sk-toggleable__content {max-height: 200px;max-width: 100%;overflow: auto;}#sk-container-id-4 input.sk-toggleable__control:checked~label.sk-toggleable__label-arrow:before {content: \"▾\";}#sk-container-id-4 div.sk-estimator input.sk-toggleable__control:checked~label.sk-toggleable__label {background-color: #d4ebff;}#sk-container-id-4 div.sk-label input.sk-toggleable__control:checked~label.sk-toggleable__label {background-color: #d4ebff;}#sk-container-id-4 input.sk-hidden--visually {border: 0;clip: rect(1px 1px 1px 1px);clip: rect(1px, 1px, 1px, 1px);height: 1px;margin: -1px;overflow: hidden;padding: 0;position: absolute;width: 1px;}#sk-container-id-4 div.sk-estimator {font-family: monospace;background-color: #f0f8ff;border: 1px dotted black;border-radius: 0.25em;box-sizing: border-box;margin-bottom: 0.5em;}#sk-container-id-4 div.sk-estimator:hover {background-color: #d4ebff;}#sk-container-id-4 div.sk-parallel-item::after {content: \"\";width: 100%;border-bottom: 1px solid gray;flex-grow: 1;}#sk-container-id-4 div.sk-label:hover label.sk-toggleable__label {background-color: #d4ebff;}#sk-container-id-4 div.sk-serial::before {content: \"\";position: absolute;border-left: 1px solid gray;box-sizing: border-box;top: 0;bottom: 0;left: 50%;z-index: 0;}#sk-container-id-4 div.sk-serial {display: flex;flex-direction: column;align-items: center;background-color: white;padding-right: 0.2em;padding-left: 0.2em;position: relative;}#sk-container-id-4 div.sk-item {position: relative;z-index: 1;}#sk-container-id-4 div.sk-parallel {display: flex;align-items: stretch;justify-content: center;background-color: white;position: relative;}#sk-container-id-4 div.sk-item::before, #sk-container-id-4 div.sk-parallel-item::before {content: \"\";position: absolute;border-left: 1px solid gray;box-sizing: border-box;top: 0;bottom: 0;left: 50%;z-index: -1;}#sk-container-id-4 div.sk-parallel-item {display: flex;flex-direction: column;z-index: 1;position: relative;background-color: white;}#sk-container-id-4 div.sk-parallel-item:first-child::after {align-self: flex-end;width: 50%;}#sk-container-id-4 div.sk-parallel-item:last-child::after {align-self: flex-start;width: 50%;}#sk-container-id-4 div.sk-parallel-item:only-child::after {width: 0;}#sk-container-id-4 div.sk-dashed-wrapped {border: 1px dashed gray;margin: 0 0.4em 0.5em 0.4em;box-sizing: border-box;padding-bottom: 0.4em;background-color: white;}#sk-container-id-4 div.sk-label label {font-family: monospace;font-weight: bold;display: inline-block;line-height: 1.2em;}#sk-container-id-4 div.sk-label-container {text-align: center;}#sk-container-id-4 div.sk-container {/* jupyter's `normalize.less` sets `[hidden] { display: none; }` but bootstrap.min.css set `[hidden] { display: none !important; }` so we also need the `!important` here to be able to override the default hidden behavior on the sphinx rendered scikit-learn.org. See: https://github.com/scikit-learn/scikit-learn/issues/21755 */display: inline-block !important;position: relative;}#sk-container-id-4 div.sk-text-repr-fallback {display: none;}</style><div id=\"sk-container-id-4\" class=\"sk-top-container\"><div class=\"sk-text-repr-fallback\"><pre>RandomForestClassifier(random_state=42)</pre><b>In a Jupyter environment, please rerun this cell to show the HTML representation or trust the notebook. <br />On GitHub, the HTML representation is unable to render, please try loading this page with nbviewer.org.</b></div><div class=\"sk-container\" hidden><div class=\"sk-item\"><div class=\"sk-estimator sk-toggleable\"><input class=\"sk-toggleable__control sk-hidden--visually\" id=\"sk-estimator-id-4\" type=\"checkbox\" checked><label for=\"sk-estimator-id-4\" class=\"sk-toggleable__label sk-toggleable__label-arrow\">RandomForestClassifier</label><div class=\"sk-toggleable__content\"><pre>RandomForestClassifier(random_state=42)</pre></div></div></div></div></div>"
      ],
      "text/plain": [
       "RandomForestClassifier(random_state=42)"
      ]
     },
     "execution_count": 58,
     "metadata": {},
     "output_type": "execute_result"
    }
   ],
   "source": [
    "# Choose a machine learning model - For this example, let's use a RandomForestClassifier\n",
    "from sklearn.ensemble import RandomForestClassifier\n",
    "\n",
    "# Initialize the model\n",
    "model = RandomForestClassifier(random_state=42)\n",
    "\n",
    "# Train the model on the training data\n",
    "model.fit(X_train, y_train)\n"
   ]
  },
  {
   "cell_type": "code",
   "execution_count": 59,
   "id": "01c4d0f1",
   "metadata": {},
   "outputs": [
    {
     "name": "stdout",
     "output_type": "stream",
     "text": [
      "Training Accuracy: 0.9006211180124224\n",
      "Training Classification Report:\n",
      "               precision    recall  f1-score   support\n",
      "\n",
      "          70       0.92      1.00      0.96        11\n",
      "          71       1.00      0.67      0.80         3\n",
      "          72       0.67      1.00      0.80         2\n",
      "          74       1.00      0.50      0.67         2\n",
      "          75       0.88      1.00      0.93         7\n",
      "          76       1.00      1.00      1.00         3\n",
      "          77       1.00      0.75      0.86         4\n",
      "          79       0.83      1.00      0.91        10\n",
      "          80       0.96      1.00      0.98        26\n",
      "          81       0.86      1.00      0.92         6\n",
      "          82       1.00      0.92      0.96        12\n",
      "          83       0.75      0.75      0.75         4\n",
      "          84       1.00      0.71      0.83         7\n",
      "          85       0.86      0.75      0.80         8\n",
      "          86       0.67      0.80      0.73         5\n",
      "          87       0.85      1.00      0.92        11\n",
      "          88       1.00      0.80      0.89        10\n",
      "          89       1.00      1.00      1.00         5\n",
      "          90       0.88      0.84      0.86        25\n",
      "\n",
      "    accuracy                           0.90       161\n",
      "   macro avg       0.90      0.87      0.87       161\n",
      "weighted avg       0.91      0.90      0.90       161\n",
      "\n"
     ]
    }
   ],
   "source": [
    "# # Make predictions on the test set\n",
    "# y_pred = model.predict(X_test)\n",
    "\n",
    "# # Evaluate the model's performance using metrics like accuracy, precision, recall, and F1-score\n",
    "# from sklearn.metrics import accuracy_score, classification_report\n",
    "\n",
    "# accuracy = accuracy_score(y_test, y_pred)\n",
    "# report = classification_report(y_test, y_pred)\n",
    "\n",
    "# print(\"Model Accuracy:\", accuracy)\n",
    "# print(\"Classification Report:\\n\", report)\n",
    "\n",
    "\n",
    "# Make predictions on the training set\n",
    "y_train_pred = model.predict(X_train)\n",
    "\n",
    "# Evaluate the model's performance on the training set\n",
    "from sklearn.metrics import accuracy_score, classification_report\n",
    "\n",
    "train_accuracy = accuracy_score(y_train, y_train_pred)\n",
    "train_report = classification_report(y_train, y_train_pred)\n",
    "\n",
    "print(\"Training Accuracy:\", train_accuracy)\n",
    "print(\"Training Classification Report:\\n\", train_report)\n",
    "\n"
   ]
  },
  {
   "cell_type": "code",
   "execution_count": 60,
   "id": "7baaa62f",
   "metadata": {},
   "outputs": [
    {
     "name": "stdout",
     "output_type": "stream",
     "text": [
      "                       Feature  Importance\n",
      "2  Previous_Performance_Scores    0.704338\n",
      "1                  Nationality    0.175416\n",
      "0                       gender    0.066343\n",
      "3           StudentAbsenceDays    0.053904\n"
     ]
    }
   ],
   "source": [
    "# Get feature importances from the trained model\n",
    "feature_importances = model.feature_importances_\n",
    "\n",
    "# Create a DataFrame to display feature importances\n",
    "feature_importance_df = pd.DataFrame({\n",
    "    \"Feature\": X.columns,\n",
    "    \"Importance\": feature_importances\n",
    "})\n",
    "\n",
    "# Sort features by importance in descending order\n",
    "feature_importance_df = feature_importance_df.sort_values(by=\"Importance\", ascending=False)\n",
    "\n",
    "# Display the feature importances\n",
    "print(feature_importance_df)\n"
   ]
  },
  {
   "cell_type": "code",
   "execution_count": 61,
   "id": "9239bb16",
   "metadata": {},
   "outputs": [],
   "source": [
    "# # Save the label encoder classes_\n",
    "# label_encoder_filename = \"nationality_label_encoder.pkl\"\n",
    "# joblib.dump(label_encoder.classes_, label_encoder_filename)"
   ]
  },
  {
   "cell_type": "code",
   "execution_count": null,
   "id": "3f9feee1",
   "metadata": {},
   "outputs": [],
   "source": []
  },
  {
   "cell_type": "code",
   "execution_count": 62,
   "id": "46667062",
   "metadata": {},
   "outputs": [
    {
     "data": {
      "text/plain": [
       "['student_performance_model.pkl']"
      ]
     },
     "execution_count": 62,
     "metadata": {},
     "output_type": "execute_result"
    }
   ],
   "source": [
    "# You can use the joblib library to save the trained model\n",
    "import joblib\n",
    "\n",
    "# Save the model to a file\n",
    "model_filename = \"student_performance_model.pkl\"\n",
    "joblib.dump(model, model_filename)\n"
   ]
  },
  {
   "cell_type": "code",
   "execution_count": null,
   "id": "e64a5f5f",
   "metadata": {},
   "outputs": [],
   "source": []
  }
 ],
 "metadata": {
  "kernelspec": {
   "display_name": "env",
   "language": "python",
   "name": "env"
  },
  "language_info": {
   "codemirror_mode": {
    "name": "ipython",
    "version": 3
   },
   "file_extension": ".py",
   "mimetype": "text/x-python",
   "name": "python",
   "nbconvert_exporter": "python",
   "pygments_lexer": "ipython3",
   "version": "3.11.4"
  }
 },
 "nbformat": 4,
 "nbformat_minor": 5
}
